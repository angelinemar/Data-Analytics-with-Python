{
 "cells": [
  {
   "cell_type": "code",
   "execution_count": 74,
   "id": "090d1ef9",
   "metadata": {},
   "outputs": [],
   "source": [
    "import pandas as pd\n",
    "import matplotlib.pyplot as plt "
   ]
  },
  {
   "cell_type": "code",
   "execution_count": 6,
   "id": "f63f4430",
   "metadata": {},
   "outputs": [
    {
     "data": {
      "text/html": [
       "<div>\n",
       "<style scoped>\n",
       "    .dataframe tbody tr th:only-of-type {\n",
       "        vertical-align: middle;\n",
       "    }\n",
       "\n",
       "    .dataframe tbody tr th {\n",
       "        vertical-align: top;\n",
       "    }\n",
       "\n",
       "    .dataframe thead th {\n",
       "        text-align: right;\n",
       "    }\n",
       "</style>\n",
       "<table border=\"1\" class=\"dataframe\">\n",
       "  <thead>\n",
       "    <tr style=\"text-align: right;\">\n",
       "      <th></th>\n",
       "      <th>country</th>\n",
       "      <th>beer_servings</th>\n",
       "      <th>spirit_servings</th>\n",
       "      <th>wine_servings</th>\n",
       "      <th>total_litres_of_pure_alcohol</th>\n",
       "      <th>continent</th>\n",
       "    </tr>\n",
       "  </thead>\n",
       "  <tbody>\n",
       "    <tr>\n",
       "      <th>0</th>\n",
       "      <td>Afghanistan</td>\n",
       "      <td>0</td>\n",
       "      <td>0</td>\n",
       "      <td>0</td>\n",
       "      <td>0.0</td>\n",
       "      <td>Asia</td>\n",
       "    </tr>\n",
       "    <tr>\n",
       "      <th>1</th>\n",
       "      <td>Albania</td>\n",
       "      <td>89</td>\n",
       "      <td>132</td>\n",
       "      <td>54</td>\n",
       "      <td>4.9</td>\n",
       "      <td>Europe</td>\n",
       "    </tr>\n",
       "    <tr>\n",
       "      <th>2</th>\n",
       "      <td>Algeria</td>\n",
       "      <td>25</td>\n",
       "      <td>0</td>\n",
       "      <td>14</td>\n",
       "      <td>0.7</td>\n",
       "      <td>Africa</td>\n",
       "    </tr>\n",
       "    <tr>\n",
       "      <th>3</th>\n",
       "      <td>Andorra</td>\n",
       "      <td>245</td>\n",
       "      <td>138</td>\n",
       "      <td>312</td>\n",
       "      <td>12.4</td>\n",
       "      <td>Europe</td>\n",
       "    </tr>\n",
       "    <tr>\n",
       "      <th>4</th>\n",
       "      <td>Angola</td>\n",
       "      <td>217</td>\n",
       "      <td>57</td>\n",
       "      <td>45</td>\n",
       "      <td>5.9</td>\n",
       "      <td>Africa</td>\n",
       "    </tr>\n",
       "    <tr>\n",
       "      <th>...</th>\n",
       "      <td>...</td>\n",
       "      <td>...</td>\n",
       "      <td>...</td>\n",
       "      <td>...</td>\n",
       "      <td>...</td>\n",
       "      <td>...</td>\n",
       "    </tr>\n",
       "    <tr>\n",
       "      <th>188</th>\n",
       "      <td>Venezuela</td>\n",
       "      <td>333</td>\n",
       "      <td>100</td>\n",
       "      <td>3</td>\n",
       "      <td>7.7</td>\n",
       "      <td>South America</td>\n",
       "    </tr>\n",
       "    <tr>\n",
       "      <th>189</th>\n",
       "      <td>Vietnam</td>\n",
       "      <td>111</td>\n",
       "      <td>2</td>\n",
       "      <td>1</td>\n",
       "      <td>2.0</td>\n",
       "      <td>Asia</td>\n",
       "    </tr>\n",
       "    <tr>\n",
       "      <th>190</th>\n",
       "      <td>Yemen</td>\n",
       "      <td>6</td>\n",
       "      <td>0</td>\n",
       "      <td>0</td>\n",
       "      <td>0.1</td>\n",
       "      <td>Asia</td>\n",
       "    </tr>\n",
       "    <tr>\n",
       "      <th>191</th>\n",
       "      <td>Zambia</td>\n",
       "      <td>32</td>\n",
       "      <td>19</td>\n",
       "      <td>4</td>\n",
       "      <td>2.5</td>\n",
       "      <td>Africa</td>\n",
       "    </tr>\n",
       "    <tr>\n",
       "      <th>192</th>\n",
       "      <td>Zimbabwe</td>\n",
       "      <td>64</td>\n",
       "      <td>18</td>\n",
       "      <td>4</td>\n",
       "      <td>4.7</td>\n",
       "      <td>Africa</td>\n",
       "    </tr>\n",
       "  </tbody>\n",
       "</table>\n",
       "<p>193 rows × 6 columns</p>\n",
       "</div>"
      ],
      "text/plain": [
       "         country  beer_servings  spirit_servings  wine_servings  \\\n",
       "0    Afghanistan              0                0              0   \n",
       "1        Albania             89              132             54   \n",
       "2        Algeria             25                0             14   \n",
       "3        Andorra            245              138            312   \n",
       "4         Angola            217               57             45   \n",
       "..           ...            ...              ...            ...   \n",
       "188    Venezuela            333              100              3   \n",
       "189      Vietnam            111                2              1   \n",
       "190        Yemen              6                0              0   \n",
       "191       Zambia             32               19              4   \n",
       "192     Zimbabwe             64               18              4   \n",
       "\n",
       "     total_litres_of_pure_alcohol      continent  \n",
       "0                             0.0           Asia  \n",
       "1                             4.9         Europe  \n",
       "2                             0.7         Africa  \n",
       "3                            12.4         Europe  \n",
       "4                             5.9         Africa  \n",
       "..                            ...            ...  \n",
       "188                           7.7  South America  \n",
       "189                           2.0           Asia  \n",
       "190                           0.1           Asia  \n",
       "191                           2.5         Africa  \n",
       "192                           4.7         Africa  \n",
       "\n",
       "[193 rows x 6 columns]"
      ]
     },
     "execution_count": 6,
     "metadata": {},
     "output_type": "execute_result"
    }
   ],
   "source": [
    "drinks_data = pd.read_csv(\"drinks.csv\")\n",
    "drinks_data.head(500)"
   ]
  },
  {
   "cell_type": "code",
   "execution_count": 17,
   "id": "dc544d11",
   "metadata": {},
   "outputs": [
    {
     "name": "stdout",
     "output_type": "stream",
     "text": [
      "               beer_servings\n",
      "continent                   \n",
      "Africa             61.471698\n",
      "Asia               37.045455\n",
      "Europe            193.777778\n",
      "North America     145.434783\n",
      "Oceania            89.687500\n",
      "South America     175.083333\n"
     ]
    }
   ],
   "source": [
    "# tampilkan rata2 per benua tingkat beer servings\n",
    "\n",
    "avg = drinks_data.groupby('continent')[['beer_servings']].mean()\n",
    "print(avg)"
   ]
  },
  {
   "cell_type": "code",
   "execution_count": 20,
   "id": "aa7e4ba7",
   "metadata": {},
   "outputs": [
    {
     "name": "stdout",
     "output_type": "stream",
     "text": [
      "               country\n",
      "continent             \n",
      "Africa              53\n",
      "Asia                44\n",
      "Europe              45\n",
      "North America       23\n",
      "Oceania             16\n",
      "South America       12\n"
     ]
    }
   ],
   "source": [
    "# jumlah negara dari setiap benua\n",
    "\n",
    "jml = drinks_data.groupby('continent')[['country']].count()\n",
    "print(jml)"
   ]
  },
  {
   "cell_type": "code",
   "execution_count": 64,
   "id": "e2eb98c4",
   "metadata": {},
   "outputs": [
    {
     "name": "stdout",
     "output_type": "stream",
     "text": [
      "106.16062176165804\n"
     ]
    },
    {
     "data": {
      "text/html": [
       "<div>\n",
       "<style scoped>\n",
       "    .dataframe tbody tr th:only-of-type {\n",
       "        vertical-align: middle;\n",
       "    }\n",
       "\n",
       "    .dataframe tbody tr th {\n",
       "        vertical-align: top;\n",
       "    }\n",
       "\n",
       "    .dataframe thead th {\n",
       "        text-align: right;\n",
       "    }\n",
       "</style>\n",
       "<table border=\"1\" class=\"dataframe\">\n",
       "  <thead>\n",
       "    <tr style=\"text-align: right;\">\n",
       "      <th></th>\n",
       "      <th>country</th>\n",
       "      <th>continent</th>\n",
       "      <th>beer_servings</th>\n",
       "    </tr>\n",
       "  </thead>\n",
       "  <tbody>\n",
       "    <tr>\n",
       "      <th>0</th>\n",
       "      <td>Afghanistan</td>\n",
       "      <td>Asia</td>\n",
       "      <td>0</td>\n",
       "    </tr>\n",
       "    <tr>\n",
       "      <th>1</th>\n",
       "      <td>Albania</td>\n",
       "      <td>Europe</td>\n",
       "      <td>89</td>\n",
       "    </tr>\n",
       "    <tr>\n",
       "      <th>2</th>\n",
       "      <td>Algeria</td>\n",
       "      <td>Africa</td>\n",
       "      <td>25</td>\n",
       "    </tr>\n",
       "    <tr>\n",
       "      <th>5</th>\n",
       "      <td>Antigua &amp; Barbuda</td>\n",
       "      <td>North America</td>\n",
       "      <td>102</td>\n",
       "    </tr>\n",
       "    <tr>\n",
       "      <th>7</th>\n",
       "      <td>Armenia</td>\n",
       "      <td>Europe</td>\n",
       "      <td>21</td>\n",
       "    </tr>\n",
       "    <tr>\n",
       "      <th>...</th>\n",
       "      <td>...</td>\n",
       "      <td>...</td>\n",
       "      <td>...</td>\n",
       "    </tr>\n",
       "    <tr>\n",
       "      <th>186</th>\n",
       "      <td>Uzbekistan</td>\n",
       "      <td>Asia</td>\n",
       "      <td>25</td>\n",
       "    </tr>\n",
       "    <tr>\n",
       "      <th>187</th>\n",
       "      <td>Vanuatu</td>\n",
       "      <td>Oceania</td>\n",
       "      <td>21</td>\n",
       "    </tr>\n",
       "    <tr>\n",
       "      <th>190</th>\n",
       "      <td>Yemen</td>\n",
       "      <td>Asia</td>\n",
       "      <td>6</td>\n",
       "    </tr>\n",
       "    <tr>\n",
       "      <th>191</th>\n",
       "      <td>Zambia</td>\n",
       "      <td>Africa</td>\n",
       "      <td>32</td>\n",
       "    </tr>\n",
       "    <tr>\n",
       "      <th>192</th>\n",
       "      <td>Zimbabwe</td>\n",
       "      <td>Africa</td>\n",
       "      <td>64</td>\n",
       "    </tr>\n",
       "  </tbody>\n",
       "</table>\n",
       "<p>117 rows × 3 columns</p>\n",
       "</div>"
      ],
      "text/plain": [
       "               country      continent  beer_servings\n",
       "0          Afghanistan           Asia              0\n",
       "1              Albania         Europe             89\n",
       "2              Algeria         Africa             25\n",
       "5    Antigua & Barbuda  North America            102\n",
       "7              Armenia         Europe             21\n",
       "..                 ...            ...            ...\n",
       "186         Uzbekistan           Asia             25\n",
       "187            Vanuatu        Oceania             21\n",
       "190              Yemen           Asia              6\n",
       "191             Zambia         Africa             32\n",
       "192           Zimbabwe         Africa             64\n",
       "\n",
       "[117 rows x 3 columns]"
      ]
     },
     "execution_count": 64,
     "metadata": {},
     "output_type": "execute_result"
    }
   ],
   "source": [
    "# data negara dan benua yang mempunyai tingkat beer serving dibawah rata2 global \n",
    "\n",
    "avg_bs = drinks_data['beer_servings'].mean()\n",
    "print(avg_bs)\n",
    "drinks_data[['country', 'continent', 'beer_servings']][drinks_data['beer_servings'] < avg_bs]"
   ]
  },
  {
   "cell_type": "code",
   "execution_count": 68,
   "id": "e28086e8",
   "metadata": {},
   "outputs": [
    {
     "name": "stdout",
     "output_type": "stream",
     "text": [
      "rata2 beer serving europe:  193.77777777777777\n",
      "rata2 beer serving afrika:  61.471698113207545\n"
     ]
    }
   ],
   "source": [
    "# tampilkan rata2 tingkat beer serving untuk negara di benua europe & afrika \n",
    "\n",
    "avg_eu = drinks_data[drinks_data['continent'] == 'Europe']\n",
    "avg_af = drinks_data[drinks_data['continent'] == 'Africa']\n",
    "\n",
    "print(\"rata2 beer serving europe: \", avg_eu['beer_servings'].mean())\n",
    "print(\"rata2 beer serving afrika: \", avg_af['beer_servings'].mean())"
   ]
  },
  {
   "cell_type": "code",
   "execution_count": 80,
   "id": "a8d562d4",
   "metadata": {},
   "outputs": [
    {
     "name": "stdout",
     "output_type": "stream",
     "text": [
      "rata2 beer serving asia:  37.04545454545455\n"
     ]
    }
   ],
   "source": [
    "# buktikan negara di europe mempunyai tingkat minum lebih tinggi dari negara asia dan afrika \n",
    "\n",
    "avg_as = drinks_data[drinks_data['continent'] == 'Asia']\n",
    "print(\"rata2 beer serving asia: \", avg_as['beer_servings'].mean())\n",
    "\n",
    "asia = avg_as['beer_servings'].mean()\n",
    "afrika = avg_af['beer_servings'].mean()\n",
    "eropa = avg_eu['beer_servings'].mean()"
   ]
  },
  {
   "cell_type": "code",
   "execution_count": 108,
   "id": "81997969",
   "metadata": {
    "scrolled": true
   },
   "outputs": [
    {
     "data": {
      "text/plain": [
       "<BarContainer object of 3 artists>"
      ]
     },
     "execution_count": 108,
     "metadata": {},
     "output_type": "execute_result"
    },
    {
     "data": {
      "image/png": "[encoded data removed]",
      "text/plain": [
       "<Figure size 1000x600 with 1 Axes>"
      ]
     },
     "metadata": {},
     "output_type": "display_data"
    }
   ],
   "source": [
    "avg = [asia, afrika, eropa]\n",
    "continents = ['Asia', 'Africa', 'Europe']\n",
    "plt.figure(figsize=(10,6))\n",
    "plt.bar(continents, avg)"
   ]
  },
  {
   "cell_type": "code",
   "execution_count": 113,
   "id": "a8aa3ff9",
   "metadata": {},
   "outputs": [
    {
     "data": {
      "text/html": [
       "<div>\n",
       "<style scoped>\n",
       "    .dataframe tbody tr th:only-of-type {\n",
       "        vertical-align: middle;\n",
       "    }\n",
       "\n",
       "    .dataframe tbody tr th {\n",
       "        vertical-align: top;\n",
       "    }\n",
       "\n",
       "    .dataframe thead th {\n",
       "        text-align: right;\n",
       "    }\n",
       "</style>\n",
       "<table border=\"1\" class=\"dataframe\">\n",
       "  <thead>\n",
       "    <tr style=\"text-align: right;\">\n",
       "      <th></th>\n",
       "      <th>beer_servings</th>\n",
       "    </tr>\n",
       "    <tr>\n",
       "      <th>continent</th>\n",
       "      <th></th>\n",
       "    </tr>\n",
       "  </thead>\n",
       "  <tbody>\n",
       "    <tr>\n",
       "      <th>Africa</th>\n",
       "      <td>376</td>\n",
       "    </tr>\n",
       "  </tbody>\n",
       "</table>\n",
       "</div>"
      ],
      "text/plain": [
       "           beer_servings\n",
       "continent               \n",
       "Africa               376"
      ]
     },
     "execution_count": 113,
     "metadata": {},
     "output_type": "execute_result"
    }
   ],
   "source": [
    "# tampilkan benua yang memiliki beer serving tertinggi \n",
    "\n",
    "highest = drinks_data.groupby('continent')[['beer_servings']].max()\n",
    "highest.head(1)"
   ]
  },
  {
   "cell_type": "code",
   "execution_count": 128,
   "id": "c432151f",
   "metadata": {},
   "outputs": [
    {
     "name": "stdout",
     "output_type": "stream",
     "text": [
      "4.717098445595855\n"
     ]
    },
    {
     "data": {
      "text/html": [
       "<div>\n",
       "<style scoped>\n",
       "    .dataframe tbody tr th:only-of-type {\n",
       "        vertical-align: middle;\n",
       "    }\n",
       "\n",
       "    .dataframe tbody tr th {\n",
       "        vertical-align: top;\n",
       "    }\n",
       "\n",
       "    .dataframe thead th {\n",
       "        text-align: right;\n",
       "    }\n",
       "</style>\n",
       "<table border=\"1\" class=\"dataframe\">\n",
       "  <thead>\n",
       "    <tr style=\"text-align: right;\">\n",
       "      <th></th>\n",
       "      <th>country</th>\n",
       "      <th>total_litres_of_pure_alcohol</th>\n",
       "    </tr>\n",
       "  </thead>\n",
       "  <tbody>\n",
       "    <tr>\n",
       "      <th>1</th>\n",
       "      <td>Albania</td>\n",
       "      <td>4.9</td>\n",
       "    </tr>\n",
       "    <tr>\n",
       "      <th>3</th>\n",
       "      <td>Andorra</td>\n",
       "      <td>12.4</td>\n",
       "    </tr>\n",
       "    <tr>\n",
       "      <th>4</th>\n",
       "      <td>Angola</td>\n",
       "      <td>5.9</td>\n",
       "    </tr>\n",
       "    <tr>\n",
       "      <th>5</th>\n",
       "      <td>Antigua &amp; Barbuda</td>\n",
       "      <td>4.9</td>\n",
       "    </tr>\n",
       "    <tr>\n",
       "      <th>6</th>\n",
       "      <td>Argentina</td>\n",
       "      <td>8.3</td>\n",
       "    </tr>\n",
       "    <tr>\n",
       "      <th>...</th>\n",
       "      <td>...</td>\n",
       "      <td>...</td>\n",
       "    </tr>\n",
       "    <tr>\n",
       "      <th>182</th>\n",
       "      <td>United Kingdom</td>\n",
       "      <td>10.4</td>\n",
       "    </tr>\n",
       "    <tr>\n",
       "      <th>183</th>\n",
       "      <td>Tanzania</td>\n",
       "      <td>5.7</td>\n",
       "    </tr>\n",
       "    <tr>\n",
       "      <th>184</th>\n",
       "      <td>USA</td>\n",
       "      <td>8.7</td>\n",
       "    </tr>\n",
       "    <tr>\n",
       "      <th>185</th>\n",
       "      <td>Uruguay</td>\n",
       "      <td>6.6</td>\n",
       "    </tr>\n",
       "    <tr>\n",
       "      <th>188</th>\n",
       "      <td>Venezuela</td>\n",
       "      <td>7.7</td>\n",
       "    </tr>\n",
       "  </tbody>\n",
       "</table>\n",
       "<p>90 rows × 2 columns</p>\n",
       "</div>"
      ],
      "text/plain": [
       "               country  total_litres_of_pure_alcohol\n",
       "1              Albania                           4.9\n",
       "3              Andorra                          12.4\n",
       "4               Angola                           5.9\n",
       "5    Antigua & Barbuda                           4.9\n",
       "6            Argentina                           8.3\n",
       "..                 ...                           ...\n",
       "182     United Kingdom                          10.4\n",
       "183           Tanzania                           5.7\n",
       "184                USA                           8.7\n",
       "185            Uruguay                           6.6\n",
       "188          Venezuela                           7.7\n",
       "\n",
       "[90 rows x 2 columns]"
      ]
     },
     "execution_count": 128,
     "metadata": {},
     "output_type": "execute_result"
    }
   ],
   "source": [
    "# tampilkan negara yang mempunyai tingkat minum diatas rata2\n",
    "#print(\"rata2 adalah: \", avg_bs)\n",
    "\n",
    "avg = drinks_data['total_litres_of_pure_alcohol'].mean()\n",
    "print(avg)\n",
    "\n",
    "drinks_data[['country', 'total_litres_of_pure_alcohol']][drinks_data['total_litres_of_pure_alcohol'] > avg]"
   ]
  },
  {
   "cell_type": "code",
   "execution_count": 137,
   "id": "45563285",
   "metadata": {},
   "outputs": [
    {
     "name": "stdout",
     "output_type": "stream",
     "text": [
      "              country  beer_servings  spirit_servings  wine_servings  \\\n",
      "0         Afghanistan              0                0              0   \n",
      "13         Bangladesh              0                0              0   \n",
      "46        North Korea              0                0              0   \n",
      "79               Iran              0                0              0   \n",
      "90             Kuwait              0                0              0   \n",
      "97              Libya              0                0              0   \n",
      "103          Maldives              0                0              0   \n",
      "106  Marshall Islands              0                0              0   \n",
      "107        Mauritania              0                0              0   \n",
      "111            Monaco              0                0              0   \n",
      "128          Pakistan              0                0              0   \n",
      "147        San Marino              0                0              0   \n",
      "158           Somalia              0                0              0   \n",
      "\n",
      "     total_litres_of_pure_alcohol continent  \n",
      "0                             0.0      Asia  \n",
      "13                            0.0      Asia  \n",
      "46                            0.0      Asia  \n",
      "79                            0.0      Asia  \n",
      "90                            0.0      Asia  \n",
      "97                            0.0    Africa  \n",
      "103                           0.0      Asia  \n",
      "106                           0.0   Oceania  \n",
      "107                           0.0    Africa  \n",
      "111                           0.0    Europe  \n",
      "128                           0.0      Asia  \n",
      "147                           0.0    Europe  \n",
      "158                           0.0    Africa  \n"
     ]
    }
   ],
   "source": [
    "# Tampilkan negara yang mempunyai tingkat minum 0\n",
    "a = drinks_data[drinks_data['total_litres_of_pure_alcohol'] == 0]\n",
    "print(a)"
   ]
  },
  {
   "cell_type": "code",
   "execution_count": 187,
   "id": "8cd036a2",
   "metadata": {},
   "outputs": [
    {
     "name": "stdout",
     "output_type": "stream",
     "text": [
      "14.4\n"
     ]
    },
    {
     "data": {
      "text/html": [
       "<div>\n",
       "<style scoped>\n",
       "    .dataframe tbody tr th:only-of-type {\n",
       "        vertical-align: middle;\n",
       "    }\n",
       "\n",
       "    .dataframe tbody tr th {\n",
       "        vertical-align: top;\n",
       "    }\n",
       "\n",
       "    .dataframe thead th {\n",
       "        text-align: right;\n",
       "    }\n",
       "</style>\n",
       "<table border=\"1\" class=\"dataframe\">\n",
       "  <thead>\n",
       "    <tr style=\"text-align: right;\">\n",
       "      <th></th>\n",
       "      <th>country</th>\n",
       "    </tr>\n",
       "  </thead>\n",
       "  <tbody>\n",
       "    <tr>\n",
       "      <th>15</th>\n",
       "      <td>Belarus</td>\n",
       "    </tr>\n",
       "  </tbody>\n",
       "</table>\n",
       "</div>"
      ],
      "text/plain": [
       "    country\n",
       "15  Belarus"
      ]
     },
     "execution_count": 187,
     "metadata": {},
     "output_type": "execute_result"
    }
   ],
   "source": [
    "# Tampilkan negara yang mempunyai tingkat minum paling tinggi\n",
    "\n",
    "# dapetin nilai maksimum\n",
    "maximum = drinks_data['total_litres_of_pure_alcohol'].max()\n",
    "print(maximum)\n",
    "\n",
    "drinks_data[['country']][drinks_data['total_litres_of_pure_alcohol'] == maximum]"
   ]
  },
  {
   "cell_type": "code",
   "execution_count": 159,
   "id": "a9f20de2",
   "metadata": {},
   "outputs": [
    {
     "name": "stdout",
     "output_type": "stream",
     "text": [
      "                country  beer_servings  spirit_servings  wine_servings  \\\n",
      "1               Albania             89              132             54   \n",
      "3               Andorra            245              138            312   \n",
      "7               Armenia             21              179             11   \n",
      "9               Austria            279               75            191   \n",
      "10           Azerbaijan             21               46              5   \n",
      "15              Belarus            142              373             42   \n",
      "16              Belgium            295               84            212   \n",
      "21   Bosnia-Herzegovina             76              173              8   \n",
      "25             Bulgaria            231              252             94   \n",
      "42              Croatia            230               87            254   \n",
      "44               Cyprus            192              154            113   \n",
      "45       Czech Republic            361              170            134   \n",
      "48              Denmark            224               81            278   \n",
      "57              Estonia            224              194             59   \n",
      "60              Finland            263              133             97   \n",
      "61               France            127              151            370   \n",
      "64              Georgia             52              100            149   \n",
      "65              Germany            346              117            175   \n",
      "67               Greece            133              112            218   \n",
      "75              Hungary            234              215            185   \n",
      "76              Iceland            233               61             78   \n",
      "81              Ireland            313              118            165   \n",
      "83                Italy             85               42            237   \n",
      "93               Latvia            281              216             62   \n",
      "98            Lithuania            343              244             56   \n",
      "99           Luxembourg            236              133            271   \n",
      "105               Malta            149              100            120   \n",
      "111              Monaco              0                0              0   \n",
      "113          Montenegro             31              114            128   \n",
      "120         Netherlands            251               88            190   \n",
      "126              Norway            169               71            129   \n",
      "135              Poland            343              215             56   \n",
      "136            Portugal            194               67            339   \n",
      "139             Moldova            109              226             18   \n",
      "140             Romania            297              122            167   \n",
      "147          San Marino              0                0              0   \n",
      "151              Serbia            283              131            127   \n",
      "155            Slovakia            196              293            116   \n",
      "156            Slovenia            270               51            276   \n",
      "160               Spain            284              157            112   \n",
      "165              Sweden            152               60            186   \n",
      "166         Switzerland            185              100            280   \n",
      "170           Macedonia            106               27             86   \n",
      "180             Ukraine            206              237             45   \n",
      "182      United Kingdom            219              126            195   \n",
      "\n",
      "     total_litres_of_pure_alcohol continent  \n",
      "1                             4.9    Europe  \n",
      "3                            12.4    Europe  \n",
      "7                             3.8    Europe  \n",
      "9                             9.7    Europe  \n",
      "10                            1.3    Europe  \n",
      "15                           14.4    Europe  \n",
      "16                           10.5    Europe  \n",
      "21                            4.6    Europe  \n",
      "25                           10.3    Europe  \n",
      "42                           10.2    Europe  \n",
      "44                            8.2    Europe  \n",
      "45                           11.8    Europe  \n",
      "48                           10.4    Europe  \n",
      "57                            9.5    Europe  \n",
      "60                           10.0    Europe  \n",
      "61                           11.8    Europe  \n",
      "64                            5.4    Europe  \n",
      "65                           11.3    Europe  \n",
      "67                            8.3    Europe  \n",
      "75                           11.3    Europe  \n",
      "76                            6.6    Europe  \n",
      "81                           11.4    Europe  \n",
      "83                            6.5    Europe  \n",
      "93                           10.5    Europe  \n",
      "98                           12.9    Europe  \n",
      "99                           11.4    Europe  \n",
      "105                           6.6    Europe  \n",
      "111                           0.0    Europe  \n",
      "113                           4.9    Europe  \n",
      "120                           9.4    Europe  \n",
      "126                           6.7    Europe  \n",
      "135                          10.9    Europe  \n",
      "136                          11.0    Europe  \n",
      "139                           6.3    Europe  \n",
      "140                          10.4    Europe  \n",
      "147                           0.0    Europe  \n",
      "151                           9.6    Europe  \n",
      "155                          11.4    Europe  \n",
      "156                          10.6    Europe  \n",
      "160                          10.0    Europe  \n",
      "165                           7.2    Europe  \n",
      "166                          10.2    Europe  \n",
      "170                           3.9    Europe  \n",
      "180                           8.9    Europe  \n",
      "182                          10.4    Europe  \n"
     ]
    },
    {
     "data": {
      "text/plain": [
       "country                         United Kingdom\n",
       "total_litres_of_pure_alcohol              14.4\n",
       "dtype: object"
      ]
     },
     "execution_count": 159,
     "metadata": {},
     "output_type": "execute_result"
    }
   ],
   "source": [
    "#[pandas] Tampilkan negara di benua Europe yang mempunyai tingkat minum paling tinggi\n",
    "\n",
    "eu = drinks_data[drinks_data['continent']=='Europe']\n",
    "print(eu)\n",
    "\n",
    "eu[['country','total_litres_of_pure_alcohol']].max()"
   ]
  },
  {
   "cell_type": "code",
   "execution_count": 166,
   "id": "8591702a",
   "metadata": {},
   "outputs": [
    {
     "name": "stdout",
     "output_type": "stream",
     "text": [
      "               country      continent  beer_servings\n",
      "1              Albania         Europe             89\n",
      "2              Algeria         Africa             25\n",
      "3              Andorra         Europe            245\n",
      "4               Angola         Africa            217\n",
      "5    Antigua & Barbuda  North America            102\n",
      "..                 ...            ...            ...\n",
      "188          Venezuela  South America            333\n",
      "189            Vietnam           Asia            111\n",
      "190              Yemen           Asia              6\n",
      "191             Zambia         Africa             32\n",
      "192           Zimbabwe         Africa             64\n",
      "\n",
      "[178 rows x 3 columns]\n"
     ]
    }
   ],
   "source": [
    "#[pandas] Tampilkan daftar benua, jumlah negara yang beer serving nya lebih besar dari 0\n",
    "\n",
    "cont = drinks_data[['country', 'continent', 'beer_servings']][drinks_data['beer_servings'] > 0]\n",
    "print(cont)"
   ]
  },
  {
   "cell_type": "code",
   "execution_count": 181,
   "id": "664d2ca7",
   "metadata": {},
   "outputs": [
    {
     "name": "stdout",
     "output_type": "stream",
     "text": [
      "    continent         country  beer_servings\n",
      "117    Africa         Namibia            376\n",
      "45     Europe  Czech Republic            361\n",
      "62     Africa           Gabon            347\n",
      "65     Europe         Germany            346\n",
      "98     Europe       Lithuania            343\n",
      "..        ...             ...            ...\n",
      "107    Africa      Mauritania              0\n",
      "158    Africa         Somalia              0\n",
      "111    Europe          Monaco              0\n",
      "128      Asia        Pakistan              0\n",
      "0        Asia     Afghanistan              0\n",
      "\n",
      "[193 rows x 3 columns]\n"
     ]
    }
   ],
   "source": [
    "# [pandas] Tampilkan urutan daftar benua dari tertinggi ke terendah dari jumlah negara yang punya beer serving\n",
    "lists = drinks_data[['continent', 'country', 'beer_servings']].sort_values('beer_servings', ascending = False)\n",
    "print(lists)"
   ]
  },
  {
   "cell_type": "code",
   "execution_count": null,
   "id": "867d88ac",
   "metadata": {},
   "outputs": [],
   "source": []
  }
 ],
 "metadata": {
  "kernelspec": {
   "display_name": "Python 3 (ipykernel)",
   "language": "python",
   "name": "python3"
  },
  "language_info": {
   "codemirror_mode": {
    "name": "ipython",
    "version": 3
   },
   "file_extension": ".py",
   "mimetype": "text/x-python",
   "name": "python",
   "nbconvert_exporter": "python",
   "pygments_lexer": "ipython3",
   "version": "3.9.13"
  }
 },
 "nbformat": 4,
 "nbformat_minor": 5
}
